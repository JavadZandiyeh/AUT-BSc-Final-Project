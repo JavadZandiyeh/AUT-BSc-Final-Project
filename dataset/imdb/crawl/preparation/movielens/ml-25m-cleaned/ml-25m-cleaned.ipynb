{
 "cells": [
  {
   "cell_type": "markdown",
   "source": [
    "# A. clean ml-25m dataset"
   ],
   "metadata": {
    "collapsed": false
   }
  },
  {
   "cell_type": "markdown",
   "source": [
    "## 1. get changed and deleted ids"
   ],
   "metadata": {
    "collapsed": false
   }
  },
  {
   "cell_type": "code",
   "execution_count": 1,
   "outputs": [],
   "source": [
    "import csv"
   ],
   "metadata": {
    "collapsed": false,
    "ExecuteTime": {
     "end_time": "2023-12-27T09:12:21.973787Z",
     "start_time": "2023-12-27T09:12:21.955996Z"
    }
   }
  },
  {
   "cell_type": "code",
   "execution_count": 2,
   "outputs": [],
   "source": [
    "file_path = 'changed-imdb-ids.csv'\n",
    "changed_ids = {}\n",
    "with open(file_path, 'r', newline='') as csv_file:\n",
    "    csv_reader = csv.reader(csv_file)\n",
    "    next(csv_reader)\n",
    "    for row in csv_reader:\n",
    "        changed_ids[str(row[0])] = str(row[1])\n",
    "\n",
    "file_path = 'deleted-imdb-ids.csv'\n",
    "deleted_ids = {}\n",
    "with open(file_path, 'r', newline='') as csv_file:\n",
    "    csv_reader = csv.reader(csv_file)\n",
    "    for row in csv_reader:\n",
    "        deleted_ids[row[0]] = ''  # will be filled by movieId"
   ],
   "metadata": {
    "collapsed": false,
    "ExecuteTime": {
     "end_time": "2023-12-27T09:12:28.541872Z",
     "start_time": "2023-12-27T09:12:28.444058Z"
    }
   }
  },
  {
   "cell_type": "markdown",
   "source": [
    "## 2. clean links.csv"
   ],
   "metadata": {
    "collapsed": false
   }
  },
  {
   "cell_type": "code",
   "execution_count": 3,
   "metadata": {
    "collapsed": true,
    "ExecuteTime": {
     "end_time": "2023-12-27T09:12:35.095502Z",
     "start_time": "2023-12-27T09:12:35.007650Z"
    }
   },
   "outputs": [],
   "source": [
    "file_path = '../ml-25m/links.csv'\n",
    "with open(file_path, 'r', newline='') as csv_file:\n",
    "    csv_reader = csv.reader(csv_file)\n",
    "    headers = next(csv_reader)\n",
    "    clean_rows = [headers]\n",
    "    for row in csv_reader:\n",
    "        if row[1] in deleted_ids.keys():\n",
    "            deleted_ids[row[1]] = row[0]\n",
    "        elif row[1] in changed_ids.keys():\n",
    "            clean_row = [row[0], changed_ids[row[1]], row[2]]\n",
    "            clean_rows.append(clean_row)\n",
    "        else:\n",
    "            clean_rows.append(row)\n",
    "\n",
    "file_path = 'links.csv'\n",
    "with open(file_path, 'w', newline='') as csv_file:\n",
    "    csv_writer = csv.writer(csv_file)\n",
    "    csv_writer.writerows(clean_rows)"
   ]
  },
  {
   "cell_type": "markdown",
   "source": [
    "## 3. clean ratings.csv"
   ],
   "metadata": {
    "collapsed": false
   }
  },
  {
   "cell_type": "code",
   "execution_count": 4,
   "outputs": [],
   "source": [
    "file_path = '../ml-25m/ratings.csv'\n",
    "with open(file_path, 'r', newline='') as csv_file:\n",
    "    csv_reader = csv.reader(csv_file)\n",
    "    deleted_movie_ids = deleted_ids.values()\n",
    "    headers = next(csv_reader)\n",
    "    clean_rows = [headers]\n",
    "    for row in csv_reader:\n",
    "        if row[1] not in deleted_movie_ids:\n",
    "            clean_rows.append(row)\n",
    "\n",
    "file_path = 'ratings.csv'\n",
    "with open(file_path, 'w', newline='') as csv_file:\n",
    "    csv_writer = csv.writer(csv_file)\n",
    "    csv_writer.writerows(clean_rows)"
   ],
   "metadata": {
    "collapsed": false,
    "ExecuteTime": {
     "end_time": "2023-12-27T09:14:45.146317Z",
     "start_time": "2023-12-27T09:12:42.312405Z"
    }
   }
  },
  {
   "cell_type": "markdown",
   "source": [
    "# B. find user-movie interactions"
   ],
   "metadata": {
    "collapsed": false
   }
  },
  {
   "cell_type": "code",
   "execution_count": 5,
   "outputs": [],
   "source": [
    "import csv"
   ],
   "metadata": {
    "collapsed": false,
    "ExecuteTime": {
     "end_time": "2023-12-27T09:31:52.195894Z",
     "start_time": "2023-12-27T09:31:52.182005Z"
    }
   }
  },
  {
   "cell_type": "code",
   "execution_count": 6,
   "outputs": [],
   "source": [
    "links = {}\n",
    "file_path = 'links.csv'\n",
    "with open(file_path, 'r', newline='') as csv_file:\n",
    "    csv_reader = csv.reader(csv_file)\n",
    "    next(csv_reader)\n",
    "    for row in csv_reader:\n",
    "        links[row[0]] = row[1]  # movieId: imdbId"
   ],
   "metadata": {
    "collapsed": false,
    "ExecuteTime": {
     "end_time": "2023-12-27T09:31:53.128902Z",
     "start_time": "2023-12-27T09:31:53.082752Z"
    }
   }
  },
  {
   "cell_type": "code",
   "execution_count": 7,
   "outputs": [],
   "source": [
    "ratings = {}\n",
    "file_path = 'ratings.csv'\n",
    "with open(file_path, 'r', newline='') as csv_file:\n",
    "    csv_reader = csv.reader(csv_file)\n",
    "    next(csv_reader)\n",
    "    for row in csv_reader:\n",
    "        user_id, imdb_id, weight = row[0], links.get(row[1]), row[2]\n",
    "        rate = imdb_id + \"#\" + weight\n",
    "        if ratings.get(user_id):\n",
    "            ratings[user_id].append(rate)\n",
    "        else:\n",
    "            ratings[user_id] = [rate]"
   ],
   "metadata": {
    "collapsed": false,
    "ExecuteTime": {
     "end_time": "2023-12-27T09:32:10.187240Z",
     "start_time": "2023-12-27T09:31:55.515736Z"
    }
   }
  },
  {
   "cell_type": "code",
   "execution_count": 8,
   "outputs": [],
   "source": [
    "interactions = [['userId', 'interactions(imdbId#weight)']]\n",
    "for user_id, movies in ratings.items():\n",
    "    movies_string = \",\".join(movies)\n",
    "    interactions.append([user_id, movies_string])\n",
    "\n",
    "file_path = 'interactions.csv'\n",
    "with open(file_path, 'w', newline='') as csv_file:\n",
    "    csv_writer = csv.writer(csv_file)\n",
    "    csv_writer.writerows(interactions)"
   ],
   "metadata": {
    "collapsed": false,
    "ExecuteTime": {
     "end_time": "2023-12-27T09:32:16.797949Z",
     "start_time": "2023-12-27T09:32:11.437690Z"
    }
   }
  },
  {
   "cell_type": "markdown",
   "source": [
    "## C. count user-movie interactions"
   ],
   "metadata": {
    "collapsed": false
   }
  },
  {
   "cell_type": "code",
   "execution_count": 9,
   "outputs": [],
   "source": [
    "import csv"
   ],
   "metadata": {
    "collapsed": false,
    "ExecuteTime": {
     "end_time": "2023-12-27T09:58:17.838743Z",
     "start_time": "2023-12-27T09:58:17.830677Z"
    }
   }
  },
  {
   "cell_type": "code",
   "execution_count": 10,
   "outputs": [],
   "source": [
    "links = {}\n",
    "file_path = 'links.csv'\n",
    "with open(file_path, 'r', newline='') as csv_file:\n",
    "    csv_reader = csv.reader(csv_file)\n",
    "    next(csv_reader)\n",
    "    for row in csv_reader:\n",
    "        links[row[0]] = row[1]  # movieId: imdbId"
   ],
   "metadata": {
    "collapsed": false,
    "ExecuteTime": {
     "end_time": "2023-12-27T09:58:22.658409Z",
     "start_time": "2023-12-27T09:58:22.536448Z"
    }
   }
  },
  {
   "cell_type": "code",
   "execution_count": 11,
   "outputs": [],
   "source": [
    "imdb_ids = sorted(list(set(links.values())), key=lambda x: int(x))"
   ],
   "metadata": {
    "collapsed": false,
    "ExecuteTime": {
     "end_time": "2023-12-27T09:58:34.155086Z",
     "start_time": "2023-12-27T09:58:34.126943Z"
    }
   }
  },
  {
   "cell_type": "code",
   "execution_count": 12,
   "outputs": [],
   "source": [
    "interaction_counts = [['imdbId', 'interactionCount']]\n",
    "interaction_counts.extend([imdb_id, 0] for imdb_id in imdb_ids)\n",
    "\n",
    "file_path = 'ratings.csv'\n",
    "with open(file_path, 'r', newline='') as csv_file:\n",
    "    csv_reader = csv.reader(csv_file)\n",
    "    next(csv_reader)\n",
    "    non_zero_imdb_ids = sorted([links.get(row[1]) for row in csv_reader])\n",
    "\n",
    "imdb_id, count = non_zero_imdb_ids[0], 1\n",
    "\n",
    "for i in range(1, len(non_zero_imdb_ids)):\n",
    "    if non_zero_imdb_ids[i] == non_zero_imdb_ids[i - 1]:\n",
    "        count += 1\n",
    "    else:\n",
    "        index = interaction_counts.index([imdb_id, 0])\n",
    "        interaction_counts[index][1] = count\n",
    "        imdb_id, count = non_zero_imdb_ids[i], 1"
   ],
   "metadata": {
    "collapsed": false,
    "ExecuteTime": {
     "end_time": "2023-12-27T09:59:29.552587Z",
     "start_time": "2023-12-27T09:58:40.994551Z"
    }
   }
  },
  {
   "cell_type": "code",
   "execution_count": 13,
   "outputs": [],
   "source": [
    "file_path = 'interaction-counts.csv'\n",
    "with open(file_path, 'w', newline='') as csv_file:\n",
    "    csv_writer = csv.writer(csv_file)\n",
    "    csv_writer.writerows(interaction_counts)"
   ],
   "metadata": {
    "collapsed": false,
    "ExecuteTime": {
     "end_time": "2023-12-27T09:59:39.411060Z",
     "start_time": "2023-12-27T09:59:39.374965Z"
    }
   }
  }
 ],
 "metadata": {
  "kernelspec": {
   "display_name": "Python 3",
   "language": "python",
   "name": "python3"
  },
  "language_info": {
   "codemirror_mode": {
    "name": "ipython",
    "version": 2
   },
   "file_extension": ".py",
   "mimetype": "text/x-python",
   "name": "python",
   "nbconvert_exporter": "python",
   "pygments_lexer": "ipython2",
   "version": "2.7.6"
  }
 },
 "nbformat": 4,
 "nbformat_minor": 0
}
