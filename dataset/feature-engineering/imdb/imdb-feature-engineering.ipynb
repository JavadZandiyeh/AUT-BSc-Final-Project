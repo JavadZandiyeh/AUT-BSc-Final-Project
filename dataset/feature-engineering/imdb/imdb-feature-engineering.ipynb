{
 "cells": [
  {
   "cell_type": "markdown",
   "source": [
    "# A. select features"
   ],
   "metadata": {
    "collapsed": false
   }
  },
  {
   "cell_type": "code",
   "execution_count": 1,
   "outputs": [],
   "source": [
    "import csv, sys, math, copy\n",
    "import matplotlib.pyplot as plt\n",
    "import numpy as np"
   ],
   "metadata": {
    "collapsed": false,
    "ExecuteTime": {
     "end_time": "2023-12-27T16:11:38.248053Z",
     "start_time": "2023-12-27T16:11:37.843954Z"
    }
   }
  },
  {
   "cell_type": "code",
   "execution_count": 2,
   "outputs": [],
   "source": [
    "dataset_type = 'imdb-1m'\n",
    "dataset_base_path = f'../../preparation/imdb/{dataset_type}'\n",
    "dataset_movies_path = f'{dataset_base_path}/movies.csv'\n",
    "dataset_interactions_path = f'{dataset_base_path}/interactions.csv'\n",
    "dataset_interaction_counts_path = f'{dataset_base_path}/interaction-counts.csv'\n",
    "dataset_selected_features_path = f'{dataset_type}/selected-features.csv'"
   ],
   "metadata": {
    "collapsed": false,
    "ExecuteTime": {
     "end_time": "2023-12-27T16:11:38.251647Z",
     "start_time": "2023-12-27T16:11:38.250751Z"
    }
   }
  },
  {
   "cell_type": "code",
   "execution_count": 3,
   "outputs": [],
   "source": [
    "if dataset_type == 'imdb-25m':\n",
    "    csv.field_size_limit(sys.maxsize)"
   ],
   "metadata": {
    "collapsed": false,
    "ExecuteTime": {
     "end_time": "2023-12-27T16:11:38.265114Z",
     "start_time": "2023-12-27T16:11:38.251826Z"
    }
   }
  },
  {
   "cell_type": "markdown",
   "source": [
    "## 1. get movies.csv data"
   ],
   "metadata": {
    "collapsed": false
   }
  },
  {
   "cell_type": "code",
   "execution_count": 4,
   "outputs": [
    {
     "name": "stdout",
     "output_type": "stream",
     "text": [
      "['imdbId', 'type', 'name', 'ratingCount', 'bestRating', 'worstRating', 'ratingValue', 'contentRating', 'genre', 'datePublished', 'keywords', 'actor', 'director', 'creator', 'duration', 'popularity', 'userReviews', 'criticReviews', 'metaScore']\n"
     ]
    }
   ],
   "source": [
    "with open(dataset_movies_path, 'r', newline='') as csv_file:\n",
    "    csv_reader = csv.reader(csv_file)\n",
    "    headers = next(csv_reader)\n",
    "    movies = [row for row in csv_reader]\n",
    "\n",
    "print(headers)"
   ],
   "metadata": {
    "collapsed": false,
    "ExecuteTime": {
     "end_time": "2023-12-27T16:11:38.539972Z",
     "start_time": "2023-12-27T16:11:38.484089Z"
    }
   }
  },
  {
   "cell_type": "markdown",
   "source": [
    "## 2. selected features\n",
    "- imdbId\n",
    "- type\n",
    "- ratingCount\n",
    "- ratingValue\n",
    "- genre\n",
    "- userReviews\n",
    "- criticReviews"
   ],
   "metadata": {
    "collapsed": false
   }
  },
  {
   "cell_type": "code",
   "execution_count": 5,
   "outputs": [],
   "source": [
    "imdbId_index = headers.index('imdbId')\n",
    "type_index = headers.index('type')\n",
    "ratingCount_index = headers.index('ratingCount')\n",
    "ratingValue_index = headers.index('ratingValue')\n",
    "genre_index = headers.index('genre')\n",
    "userReviews_index = headers.index('userReviews')\n",
    "criticReviews_index = headers.index('criticReviews')"
   ],
   "metadata": {
    "collapsed": false,
    "ExecuteTime": {
     "end_time": "2023-12-27T16:11:38.837162Z",
     "start_time": "2023-12-27T16:11:38.833440Z"
    }
   }
  },
  {
   "cell_type": "code",
   "execution_count": 6,
   "metadata": {
    "collapsed": true,
    "ExecuteTime": {
     "end_time": "2023-12-27T16:11:39.051615Z",
     "start_time": "2023-12-27T16:11:39.046682Z"
    }
   },
   "outputs": [
    {
     "name": "stdout",
     "output_type": "stream",
     "text": [
      "movie types:\n",
      "['Movie', 'TVSeries', 'TVEpisode']\n",
      "\n",
      "genres:\n",
      "['Short', 'Comedy', 'Drama', 'Adventure', 'Western', 'Romance', 'Family', 'Fantasy', 'Horror', 'History', 'Thriller', 'Sport', 'Crime', 'Mystery', 'Sci-Fi', 'Action', 'War', 'Animation', 'Musical', 'Documentary', 'Music', 'Biography', 'Film-Noir', 'News']\n"
     ]
    }
   ],
   "source": [
    "movie_types, genres = [], []\n",
    "\n",
    "for movie in movies:\n",
    "    # movie types\n",
    "    if (movie_type := movie[type_index]) and (movie_type not in movie_types):\n",
    "        movie_types.append(movie_type)\n",
    "\n",
    "    # genres\n",
    "    if genre := movie[genre_index]:\n",
    "        for genre in genre.split(','):\n",
    "            (genre not in genres) and genres.append(genre)\n",
    "\n",
    "print(f'movie types:\\n{movie_types}\\n')\n",
    "print(f'genres:\\n{genres}\\n')"
   ]
  },
  {
   "cell_type": "markdown",
   "source": [
    "## 3. clean and scale features"
   ],
   "metadata": {
    "collapsed": false
   }
  },
  {
   "cell_type": "code",
   "execution_count": 7,
   "outputs": [],
   "source": [
    "def get_type_vector(_type):\n",
    "    type_vector = [0] * len(movie_types)\n",
    "\n",
    "    if _type in movie_types:\n",
    "        type_vector[movie_types.index(_type)] = 1\n",
    "\n",
    "    return type_vector\n",
    "\n",
    "\n",
    "def get_genre_vector(_genres):\n",
    "    genre_vector = [0] * len(genres)\n",
    "\n",
    "    if _genres is None:\n",
    "        return genre_vector\n",
    "\n",
    "    for _genre in _genres.split(','):\n",
    "        if _genre in genres:\n",
    "            genre_vector[genres.index(_genre)] = 1\n",
    "\n",
    "    return genre_vector"
   ],
   "metadata": {
    "collapsed": false,
    "ExecuteTime": {
     "end_time": "2023-12-27T16:11:39.513837Z",
     "start_time": "2023-12-27T16:11:39.511866Z"
    }
   }
  },
  {
   "cell_type": "code",
   "execution_count": 8,
   "outputs": [],
   "source": [
    "new_headers = ['imdbId']\n",
    "new_headers.extend(list(map(lambda key: f'type{key}', movie_types)))\n",
    "new_headers.extend(['ratingCount', 'ratingValue'])\n",
    "new_headers.extend(list(map(lambda key: f'genre{key}', genres)))\n",
    "new_headers.extend(['userReviews', 'criticReviews'])"
   ],
   "metadata": {
    "collapsed": false,
    "ExecuteTime": {
     "end_time": "2023-12-27T16:11:39.767671Z",
     "start_time": "2023-12-27T16:11:39.764592Z"
    }
   }
  },
  {
   "cell_type": "code",
   "execution_count": 9,
   "outputs": [],
   "source": [
    "new_imdbId_index = new_headers.index('imdbId')\n",
    "new_ratingCount_index = new_headers.index('ratingCount')\n",
    "new_ratingValue_index = new_headers.index('ratingValue')\n",
    "new_userReviews_index = new_headers.index('userReviews')\n",
    "new_criticReviews_index = new_headers.index('criticReviews')"
   ],
   "metadata": {
    "collapsed": false,
    "ExecuteTime": {
     "end_time": "2023-12-27T16:11:40.084936Z",
     "start_time": "2023-12-27T16:11:40.065238Z"
    }
   }
  },
  {
   "cell_type": "code",
   "execution_count": 10,
   "outputs": [],
   "source": [
    "new_rows = [new_headers]\n",
    "\n",
    "for movie in movies:\n",
    "    imdbId = movie[imdbId_index]\n",
    "\n",
    "    type_vector = get_type_vector(movie[type_index])\n",
    "\n",
    "    ratingCount = movie[ratingCount_index]\n",
    "    if ratingCount == '': ratingCount = 0\n",
    "\n",
    "    ratingValue = movie[ratingValue_index]\n",
    "    if ratingValue == '': ratingValue = 0\n",
    "\n",
    "    genre_vector = get_genre_vector(movie[genre_index])\n",
    "\n",
    "    userReviews = movie[userReviews_index]\n",
    "    if userReviews == '':\n",
    "        userReviews = 0\n",
    "    elif 'k' in userReviews.lower():\n",
    "        userReviews = float(userReviews[:-1]) * 1000\n",
    "\n",
    "    criticReviews = movie[criticReviews_index]\n",
    "    if criticReviews == '':\n",
    "        criticReviews = 0\n",
    "    elif 'k' in criticReviews.lower():\n",
    "        criticReviews = float(criticReviews[:-1]) * 1000\n",
    "\n",
    "    new_row = [imdbId]\n",
    "    new_row.extend(type_vector)\n",
    "    new_row.append(int(ratingCount))\n",
    "    new_row.append(float(ratingValue))\n",
    "    new_row.extend(genre_vector)\n",
    "    new_row.append(int(userReviews))\n",
    "    new_row.append(int(criticReviews))\n",
    "\n",
    "    new_rows.append(new_row)"
   ],
   "metadata": {
    "collapsed": false,
    "ExecuteTime": {
     "end_time": "2023-12-27T16:11:40.388382Z",
     "start_time": "2023-12-27T16:11:40.365750Z"
    }
   }
  },
  {
   "cell_type": "code",
   "execution_count": 11,
   "outputs": [],
   "source": [
    "def get_boundary(values):\n",
    "    coefficient = 0.999 if dataset_type == 'imdb-25m' else 0.99\n",
    "    index = round(coefficient * len(values)) - 1\n",
    "    return values[index]\n",
    "\n",
    "\n",
    "def scale_1(value):\n",
    "    return round(math.tan((math.pi / 30) * value), 5)\n",
    "\n",
    "\n",
    "def scale_2(value, boundary):\n",
    "    return round(math.tanh(value / boundary), 5)"
   ],
   "metadata": {
    "collapsed": false,
    "ExecuteTime": {
     "end_time": "2023-12-27T16:11:40.671083Z",
     "start_time": "2023-12-27T16:11:40.666474Z"
    }
   }
  },
  {
   "cell_type": "code",
   "execution_count": 12,
   "outputs": [],
   "source": [
    "ratingCount_boundary = get_boundary(sorted([new_row[new_ratingCount_index] for new_row in new_rows[1:]]))\n",
    "userReviews_boundary = get_boundary(sorted([new_row[new_userReviews_index] for new_row in new_rows[1:]]))\n",
    "criticReviews_boundary = get_boundary(sorted([new_row[new_criticReviews_index] for new_row in new_rows[1:]]))\n",
    "\n",
    "new_rows_unscaled = copy.deepcopy(new_rows)\n",
    "\n",
    "for new_row in new_rows[1:]:\n",
    "    new_row[new_ratingValue_index] = round(scale_1(new_row[new_ratingValue_index]) / scale_1(10), 5)  # ratingValue\n",
    "    new_row[new_ratingCount_index] = scale_2(new_row[new_ratingCount_index], ratingCount_boundary)  # ratingCount\n",
    "    new_row[new_userReviews_index] = scale_2(new_row[new_userReviews_index], userReviews_boundary)  # userReviews\n",
    "    new_row[new_criticReviews_index] = scale_2(new_row[new_criticReviews_index], criticReviews_boundary)  # criticReviews"
   ],
   "metadata": {
    "collapsed": false,
    "ExecuteTime": {
     "end_time": "2023-12-27T16:11:41.022385Z",
     "start_time": "2023-12-27T16:11:41.016887Z"
    }
   }
  },
  {
   "cell_type": "code",
   "execution_count": 13,
   "outputs": [],
   "source": [
    "with open(dataset_selected_features_path, 'w', newline='') as csv_file:\n",
    "    csv_writer = csv.writer(csv_file)\n",
    "    csv_writer.writerows(new_rows)"
   ],
   "metadata": {
    "collapsed": false,
    "ExecuteTime": {
     "end_time": "2023-12-27T16:11:41.378644Z",
     "start_time": "2023-12-27T16:11:41.326853Z"
    }
   }
  },
  {
   "cell_type": "markdown",
   "source": [
    "## 4. visualize scaling"
   ],
   "metadata": {
    "collapsed": false
   }
  },
  {
   "cell_type": "code",
   "execution_count": 14,
   "outputs": [],
   "source": [
    "ratingCount_scaling, ratingValue_scaling, userReviews_scaling, criticReviews_scaling = [], [], [], []\n",
    "\n",
    "for new_row_unscaled, new_row in zip(new_rows_unscaled[1:], new_rows[1:]):\n",
    "    ratingCount_scaling.append([new_row_unscaled[new_ratingCount_index], new_row[new_ratingCount_index]])\n",
    "    ratingValue_scaling.append([new_row_unscaled[new_ratingValue_index], new_row[new_ratingValue_index]])\n",
    "    userReviews_scaling.append([new_row_unscaled[new_userReviews_index], new_row[new_userReviews_index]])\n",
    "    criticReviews_scaling.append([new_row_unscaled[new_criticReviews_index], new_row[new_criticReviews_index]])\n",
    "\n",
    "ratingCount_scaling.sort(key=lambda x: x[0])\n",
    "ratingValue_scaling.sort(key=lambda x: x[0])\n",
    "userReviews_scaling.sort(key=lambda x: x[0])\n",
    "criticReviews_scaling.sort(key=lambda x: x[0])"
   ],
   "metadata": {
    "collapsed": false,
    "ExecuteTime": {
     "end_time": "2023-12-27T16:11:42.089923Z",
     "start_time": "2023-12-27T16:11:42.060255Z"
    }
   }
  },
  {
   "cell_type": "code",
   "execution_count": 15,
   "outputs": [
    {
     "data": {
      "text/plain": "<Figure size 640x480 with 1 Axes>",
      "image/png": "[encoded data removed]"
     },
     "metadata": {},
     "output_type": "display_data"
    },
    {
     "data": {
      "text/plain": "<Figure size 640x480 with 1 Axes>",
      "image/png": "[encoded data removed]"
     },
     "metadata": {},
     "output_type": "display_data"
    },
    {
     "data": {
      "text/plain": "<Figure size 640x480 with 1 Axes>",
      "image/png": "[encoded data removed]"
     },
     "metadata": {},
     "output_type": "display_data"
    },
    {
     "data": {
      "text/plain": "<Figure size 640x480 with 1 Axes>",
      "image/png": "[encoded data removed]"
     },
     "metadata": {},
     "output_type": "display_data"
    }
   ],
   "source": [
    "# ratingValue\n",
    "X = np.array([point[0] for point in ratingValue_scaling])\n",
    "Y = np.array([point[1] for point in ratingValue_scaling])\n",
    "plt.title('ratingValue')\n",
    "plt.plot(X, Y)\n",
    "plt.show()\n",
    "\n",
    "# ratingCount\n",
    "X = np.array([point[0] for point in ratingCount_scaling])\n",
    "Y = np.array([point[1] for point in ratingCount_scaling])\n",
    "plt.title('ratingCount')\n",
    "plt.plot(X, Y)\n",
    "plt.show()\n",
    "\n",
    "# userReviews\n",
    "X = np.array([point[0] for point in userReviews_scaling])\n",
    "Y = np.array([point[1] for point in userReviews_scaling])\n",
    "plt.title('userReviews')\n",
    "plt.plot(X, Y)\n",
    "plt.show()\n",
    "\n",
    "# criticReviews\n",
    "X = np.array([point[0] for point in criticReviews_scaling])\n",
    "Y = np.array([point[1] for point in criticReviews_scaling])\n",
    "plt.title('criticReviews')\n",
    "plt.plot(X, Y)\n",
    "plt.show()"
   ],
   "metadata": {
    "collapsed": false,
    "ExecuteTime": {
     "end_time": "2023-12-27T16:11:42.830941Z",
     "start_time": "2023-12-27T16:11:42.468275Z"
    }
   }
  },
  {
   "cell_type": "markdown",
   "source": [
    "# B. create matrices"
   ],
   "metadata": {
    "collapsed": false
   }
  },
  {
   "cell_type": "markdown",
   "source": [
    "## 1. interactions"
   ],
   "metadata": {
    "collapsed": false
   }
  },
  {
   "cell_type": "code",
   "execution_count": 16,
   "outputs": [],
   "source": [
    "with open(dataset_interactions_path, 'r', newline='') as csv_file:\n",
    "    csv_reader = csv.reader(csv_file)\n",
    "    next(csv_reader)\n",
    "    ui_interactions = [row for row in csv_reader]  # user-item interactions"
   ],
   "metadata": {
    "collapsed": false,
    "ExecuteTime": {
     "end_time": "2023-12-27T16:11:43.960181Z",
     "start_time": "2023-12-27T16:11:43.910219Z"
    }
   }
  },
  {
   "cell_type": "code",
   "execution_count": 17,
   "outputs": [],
   "source": [
    "with open(dataset_interaction_counts_path, 'r', newline='') as csv_file:\n",
    "    csv_reader = csv.reader(csv_file)\n",
    "    next(csv_reader)\n",
    "    ui_interaction_counts = [[row[0], int(row[1])] for row in csv_reader]  # user-item interaction counts\n",
    "\n",
    "interaction_counts_unscaled = copy.deepcopy(ui_interaction_counts)\n",
    "\n",
    "interaction_counts_boundary = get_boundary(sorted([int(row[1]) for row in ui_interaction_counts]))\n",
    "for interaction_count in ui_interaction_counts:\n",
    "    interaction_count[1] = scale_2(int(interaction_count[1]), interaction_counts_boundary)"
   ],
   "metadata": {
    "collapsed": false,
    "ExecuteTime": {
     "end_time": "2023-12-27T16:11:44.338484Z",
     "start_time": "2023-12-27T16:11:44.318934Z"
    }
   }
  },
  {
   "cell_type": "code",
   "execution_count": 18,
   "outputs": [
    {
     "data": {
      "text/plain": "<Figure size 640x480 with 1 Axes>",
      "image/png": "[encoded data removed]"
     },
     "metadata": {},
     "output_type": "display_data"
    }
   ],
   "source": [
    "interaction_counts_scaling = []\n",
    "\n",
    "for interaction_count_unscaled, interaction_count in zip(interaction_counts_unscaled, ui_interaction_counts):\n",
    "    interaction_counts_scaling.append([interaction_count_unscaled[1], interaction_count[1]])\n",
    "\n",
    "interaction_counts_scaling.sort(key=lambda x: x[0])\n",
    "\n",
    "# interaction_counts\n",
    "X = np.array([point[0] for point in interaction_counts_scaling])\n",
    "Y = np.array([point[1] for point in interaction_counts_scaling])\n",
    "plt.title('interaction_counts')\n",
    "plt.plot(X, Y)\n",
    "plt.show()"
   ],
   "metadata": {
    "collapsed": false,
    "ExecuteTime": {
     "end_time": "2023-12-27T16:11:45.247904Z",
     "start_time": "2023-12-27T16:11:45.173166Z"
    }
   }
  },
  {
   "cell_type": "markdown",
   "source": [
    "## 2. matrices\n",
    "- item_names\n",
    "- item_interactions\n",
    "- item_interactions_diff\n",
    "- item_features\n",
    "- ii_weights\n",
    "- user_names\n",
    "- ui_weights"
   ],
   "metadata": {
    "collapsed": false
   }
  },
  {
   "cell_type": "code",
   "execution_count": 19,
   "outputs": [],
   "source": [
    "num_items = len(ui_interaction_counts)\n",
    "num_users = len(ui_interactions)\n",
    "num_item_features = len(new_headers) - 1 # the -1 is for ignoring the imdbId"
   ],
   "metadata": {
    "collapsed": false,
    "ExecuteTime": {
     "end_time": "2023-12-27T16:11:48.986235Z",
     "start_time": "2023-12-27T16:11:48.981980Z"
    }
   }
  },
  {
   "cell_type": "code",
   "execution_count": 21,
   "outputs": [],
   "source": [
    "# once this code executed, the results will be available in 'matrices' directory\n",
    "# keep in mind that the order of data in these matrices is important\n",
    "\n",
    "matrices_base_path = f'{dataset_type}/matrices'\n",
    "\n",
    "# item_names\n",
    "item_names = [[f\"item_{row[0]}\"] for row in new_rows[1:]]\n",
    "with open(f'{matrices_base_path}/item_names.csv', 'w', newline='') as csv_file:\n",
    "    csv_writer = csv.writer(csv_file)\n",
    "    csv_writer.writerows(item_names)\n",
    "\n",
    "# item_interactions\n",
    "item_interactions = np.memmap(\n",
    "    f'{matrices_base_path}/item_interactions.dat',\n",
    "    dtype=np.float32, mode='w+', shape=(num_items, 1)\n",
    ")\n",
    "\n",
    "for i in range(num_items):\n",
    "    item_interactions[i] = ui_interaction_counts[i][1]\n",
    "\n",
    "# item_interactions_diff\n",
    "item_interactions_diff = np.memmap(\n",
    "    f'{matrices_base_path}/item_interactions_diff.dat',\n",
    "    dtype=np.float32, mode='w+', shape=(num_items, num_items)\n",
    ")\n",
    "\n",
    "for i in range(num_items):\n",
    "    diff = abs(item_interactions - item_interactions[i])\n",
    "    item_interactions_diff[i, :] = np.reshape(diff, (diff.shape[0],))\n",
    "\n",
    "# item_features\n",
    "item_features = np.memmap(\n",
    "    f'{matrices_base_path}/item_features.dat',\n",
    "    dtype=np.float32, mode='w+', shape=(num_items, num_item_features)\n",
    ")\n",
    "\n",
    "for i in range(num_items):\n",
    "    item_features[i, :] = new_rows[i + 1][1:]\n",
    "\n",
    "# item-item weights\n",
    "ii_weights = np.memmap(\n",
    "    f'{matrices_base_path}/ii_weights.dat',\n",
    "    dtype=np.float32, mode='w+', shape=(num_items, num_items)\n",
    ")\n",
    "\n",
    "coefficient = 10 if dataset_type == 'imdb-25m' else 8\n",
    "chunk = int(num_items / coefficient)\n",
    "start_point, end_point = 0, chunk\n",
    "\n",
    "while start_point < num_items:\n",
    "    item_features_chuck = item_features[start_point: (start_point + chunk), :]\n",
    "    item_features_chuck = np.reshape(item_features_chuck, (chunk, num_item_features))\n",
    "\n",
    "    dot_product = item_features_chuck @ item_features.T\n",
    "\n",
    "    norm_f1, norm_f2 = np.linalg.norm(item_features_chuck, axis=1), np.linalg.norm(item_features, axis=1)\n",
    "    norm_f1, norm_f2 = np.reshape(norm_f1, (chunk, 1)), np.reshape(norm_f2, (num_items, 1))\n",
    "    norm_multiplication = norm_f1 @ norm_f2.T\n",
    "\n",
    "    cosine_similarity = np.divide(dot_product, norm_multiplication)\n",
    "\n",
    "    diff = np.reshape(item_interactions_diff[start_point: (start_point + chunk), :], (chunk, num_items))\n",
    "\n",
    "    ii_weights[start_point: (start_point + chunk), :] = np.multiply(cosine_similarity, diff)\n",
    "\n",
    "    start_point, end_point = start_point + chunk, end_point + chunk\n",
    "\n",
    "    del item_features_chuck, dot_product, norm_f1, norm_f2, norm_multiplication, cosine_similarity, diff\n",
    "\n",
    "# user_names\n",
    "user_names = [[f\"user_{row[0]}\"] for row in ui_interactions]\n",
    "with open(f'{matrices_base_path}/user_names.csv', 'w', newline='') as csv_file:\n",
    "    csv_writer = csv.writer(csv_file)\n",
    "    csv_writer.writerows(user_names)\n",
    "\n",
    "# user_features\n",
    "user_features = np.memmap(\n",
    "    f'{matrices_base_path}/user_features.dat',\n",
    "    dtype=np.float32, mode='w+', shape=(num_users, num_item_features)\n",
    ")\n",
    "\n",
    "for i in range(num_users):\n",
    "    for j in range(num_item_features):\n",
    "        user_features[i][j] = np.random.uniform(0, 1)\n",
    "\n",
    "# user-item weights\n",
    "ui_weights = np.memmap(\n",
    "    f'{matrices_base_path}/ui_weights.dat',\n",
    "    dtype=np.float32, mode='w+', shape=(num_items, num_users)\n",
    ")\n",
    "\n",
    "for user, interactions in ui_interactions:\n",
    "    for interaction in interactions.split(','):\n",
    "        item, weight = interaction.split('#')\n",
    "        weight = round(scale_1(float(weight)) / scale_1(5), 5)  # scale weight\n",
    "        ui_weights[item_names.index([f\"item_{item}\"])][user_names.index([f\"user_{user}\"])] = weight"
   ],
   "metadata": {
    "collapsed": false,
    "ExecuteTime": {
     "end_time": "2023-12-27T16:14:18.152004Z",
     "start_time": "2023-12-27T16:13:04.380929Z"
    }
   }
  }
 ],
 "metadata": {
  "kernelspec": {
   "display_name": "Python 3",
   "language": "python",
   "name": "python3"
  },
  "language_info": {
   "codemirror_mode": {
    "name": "ipython",
    "version": 2
   },
   "file_extension": ".py",
   "mimetype": "text/x-python",
   "name": "python",
   "nbconvert_exporter": "python",
   "pygments_lexer": "ipython2",
   "version": "2.7.6"
  }
 },
 "nbformat": 4,
 "nbformat_minor": 0
}
